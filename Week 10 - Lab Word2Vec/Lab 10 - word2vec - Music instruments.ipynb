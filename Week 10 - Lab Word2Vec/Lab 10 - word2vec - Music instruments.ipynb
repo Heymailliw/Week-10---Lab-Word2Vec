{
 "cells": [
  {
   "cell_type": "markdown",
   "id": "a1507aab",
   "metadata": {},
   "source": [
    "### Lab 10 - word2vec for Musical instrument reviews\n",
    "In this lab, you will be building and training Word2Vec embeddings for textual data and visualizing the embeddings using UMAP (Uniform Manifold Approximation and Projection).\n",
    "\n",
    "Steps:\n",
    "- Import \n",
    "libraries\n",
    "- Create a training and testing split of the data. 90% of the data is used for training, and 10% for testing.\n",
    "- Create sequences of purchases made by reviewers in both the training and testing sets.\n",
    "- Perform text preprocessing on the 'reviewText' column of the DataFrame. This includes converting text to lowercase, removing non-alphabetic characters, and stemming words.\n",
    "- Train a Word2Vec model on the preprocessed text data (allreviews) to learn word embeddings.\n",
    "- Find the 5 most similar words to the word \"bass\" and \"guitar\" in the trained Word2Vec model.\n",
    "- Train a Word2Vec model on the purchase history of the reviewers (product IDs) in the training set to learn product embeddings.\n",
    "- Train another Word2Vec model on the purchase history of the reviewers in the training set.\n",
    "- Extract the word vectors (product embeddings) from the trained Word2Vec model.\n",
    "- Visualize the word embeddings using UMAP.\n",
    "- Creates a scatter plot of the UMAP projections of the word embeddings.\n"
   ]
  },
  {
   "cell_type": "markdown",
   "id": "c1d768c5",
   "metadata": {},
   "source": [
    "#### import libraries: pandas, numpy, random, tqdm, matplotlib, warnings, and import Word2Vec from gensim.models"
   ]
  },
  {
   "cell_type": "code",
   "execution_count": 5,
   "id": "23036a0a",
   "metadata": {},
   "outputs": [],
   "source": [
    "import pandas as pd\n",
    "import numpy as np\n",
    "import random\n",
    "from tqdm import tqdm\n",
    "import matplotlib.pyplot as plt\n",
    "import warnings\n",
    "from gensim.models import Word2Vec\n"
   ]
  },
  {
   "cell_type": "markdown",
   "id": "3bcff829",
   "metadata": {},
   "source": [
    "#### using pandas, import the file: reviews_Musical_Instruments_5.json', lines=True"
   ]
  },
  {
   "cell_type": "code",
   "execution_count": 8,
   "id": "82d8c601",
   "metadata": {},
   "outputs": [],
   "source": [
    "data = pd.read_json('reviews_Musical_Instruments_5.json', lines=True)\n"
   ]
  },
  {
   "cell_type": "markdown",
   "id": "5665771a",
   "metadata": {},
   "source": [
    "#### display the head"
   ]
  },
  {
   "cell_type": "code",
   "execution_count": 10,
   "id": "b42ebb1c",
   "metadata": {},
   "outputs": [
    {
     "name": "stdout",
     "output_type": "stream",
     "text": [
      "       reviewerID        asin  \\\n",
      "0  A2IBPI20UZIR0U  1384719342   \n",
      "1  A14VAT5EAX3D9S  1384719342   \n",
      "2  A195EZSQDW3E21  1384719342   \n",
      "3  A2C00NNG1ZQQG2  1384719342   \n",
      "4   A94QU4C90B1AX  1384719342   \n",
      "\n",
      "                                       reviewerName   helpful  \\\n",
      "0  cassandra tu \"Yeah, well, that's just like, u...    [0, 0]   \n",
      "1                                              Jake  [13, 14]   \n",
      "2                     Rick Bennette \"Rick Bennette\"    [1, 1]   \n",
      "3                         RustyBill \"Sunday Rocker\"    [0, 0]   \n",
      "4                                     SEAN MASLANKA    [0, 0]   \n",
      "\n",
      "                                          reviewText  overall  \\\n",
      "0  Not much to write about here, but it does exac...        5   \n",
      "1  The product does exactly as it should and is q...        5   \n",
      "2  The primary job of this device is to block the...        5   \n",
      "3  Nice windscreen protects my MXL mic and preven...        5   \n",
      "4  This pop filter is great. It looks and perform...        5   \n",
      "\n",
      "                                 summary  unixReviewTime   reviewTime  \n",
      "0                                   good      1393545600  02 28, 2014  \n",
      "1                                   Jake      1363392000  03 16, 2013  \n",
      "2                   It Does The Job Well      1377648000  08 28, 2013  \n",
      "3          GOOD WINDSCREEN FOR THE MONEY      1392336000  02 14, 2014  \n",
      "4  No more pops when I record my vocals.      1392940800  02 21, 2014  \n"
     ]
    }
   ],
   "source": [
    "print(data.head())\n"
   ]
  },
  {
   "cell_type": "markdown",
   "id": "13bfd16d",
   "metadata": {},
   "source": [
    "#### display info"
   ]
  },
  {
   "cell_type": "code",
   "execution_count": 13,
   "id": "7bd52d1e",
   "metadata": {},
   "outputs": [
    {
     "name": "stdout",
     "output_type": "stream",
     "text": [
      "<class 'pandas.core.frame.DataFrame'>\n",
      "RangeIndex: 10261 entries, 0 to 10260\n",
      "Data columns (total 9 columns):\n",
      " #   Column          Non-Null Count  Dtype \n",
      "---  ------          --------------  ----- \n",
      " 0   reviewerID      10261 non-null  object\n",
      " 1   asin            10261 non-null  object\n",
      " 2   reviewerName    10234 non-null  object\n",
      " 3   helpful         10261 non-null  object\n",
      " 4   reviewText      10261 non-null  object\n",
      " 5   overall         10261 non-null  int64 \n",
      " 6   summary         10261 non-null  object\n",
      " 7   unixReviewTime  10261 non-null  int64 \n",
      " 8   reviewTime      10261 non-null  object\n",
      "dtypes: int64(2), object(7)\n",
      "memory usage: 721.6+ KB\n",
      "None\n"
     ]
    }
   ],
   "source": [
    "print(data.info())\n"
   ]
  },
  {
   "cell_type": "markdown",
   "id": "5a058793",
   "metadata": {},
   "source": [
    "#### look for missing values in all the columns using isna"
   ]
  },
  {
   "cell_type": "code",
   "execution_count": 16,
   "id": "90e54a06",
   "metadata": {},
   "outputs": [
    {
     "name": "stdout",
     "output_type": "stream",
     "text": [
      "reviewerID         0\n",
      "asin               0\n",
      "reviewerName      27\n",
      "helpful            0\n",
      "reviewText         0\n",
      "overall            0\n",
      "summary            0\n",
      "unixReviewTime     0\n",
      "reviewTime         0\n",
      "dtype: int64\n",
      "reviewerID         0\n",
      "asin               0\n",
      "reviewerName      27\n",
      "helpful            0\n",
      "reviewText         0\n",
      "overall            0\n",
      "summary            0\n",
      "unixReviewTime     0\n",
      "reviewTime         0\n",
      "dtype: int64\n"
     ]
    }
   ],
   "source": [
    "print(data.isna().sum())\n",
    "print(data.isnull().sum())\n"
   ]
  },
  {
   "cell_type": "markdown",
   "id": "d09bb50b",
   "metadata": {},
   "source": [
    "#### look for null values in all the columns using isnull"
   ]
  },
  {
   "cell_type": "code",
   "execution_count": 18,
   "id": "5aea6a92",
   "metadata": {},
   "outputs": [
    {
     "name": "stdout",
     "output_type": "stream",
     "text": [
      "reviewerID         0\n",
      "asin               0\n",
      "reviewerName      27\n",
      "helpful            0\n",
      "reviewText         0\n",
      "overall            0\n",
      "summary            0\n",
      "unixReviewTime     0\n",
      "reviewTime         0\n",
      "dtype: int64\n"
     ]
    }
   ],
   "source": [
    "null_values = data.isnull().sum()\n",
    "\n",
    "print(null_values)\n"
   ]
  },
  {
   "cell_type": "markdown",
   "id": "c5e31288",
   "metadata": {},
   "source": [
    "#### remove missing values by dropping all the rows with missing values"
   ]
  },
  {
   "cell_type": "code",
   "execution_count": 20,
   "id": "37f864a5",
   "metadata": {},
   "outputs": [],
   "source": [
    "data.dropna(inplace=True)\n"
   ]
  },
  {
   "cell_type": "markdown",
   "id": "92c6a0ad",
   "metadata": {},
   "source": [
    "#### display the head"
   ]
  },
  {
   "cell_type": "code",
   "execution_count": 23,
   "id": "6be4d835",
   "metadata": {},
   "outputs": [
    {
     "name": "stdout",
     "output_type": "stream",
     "text": [
      "       reviewerID        asin  \\\n",
      "0  A2IBPI20UZIR0U  1384719342   \n",
      "1  A14VAT5EAX3D9S  1384719342   \n",
      "2  A195EZSQDW3E21  1384719342   \n",
      "3  A2C00NNG1ZQQG2  1384719342   \n",
      "4   A94QU4C90B1AX  1384719342   \n",
      "\n",
      "                                       reviewerName   helpful  \\\n",
      "0  cassandra tu \"Yeah, well, that's just like, u...    [0, 0]   \n",
      "1                                              Jake  [13, 14]   \n",
      "2                     Rick Bennette \"Rick Bennette\"    [1, 1]   \n",
      "3                         RustyBill \"Sunday Rocker\"    [0, 0]   \n",
      "4                                     SEAN MASLANKA    [0, 0]   \n",
      "\n",
      "                                          reviewText  overall  \\\n",
      "0  Not much to write about here, but it does exac...        5   \n",
      "1  The product does exactly as it should and is q...        5   \n",
      "2  The primary job of this device is to block the...        5   \n",
      "3  Nice windscreen protects my MXL mic and preven...        5   \n",
      "4  This pop filter is great. It looks and perform...        5   \n",
      "\n",
      "                                 summary  unixReviewTime   reviewTime  \n",
      "0                                   good      1393545600  02 28, 2014  \n",
      "1                                   Jake      1363392000  03 16, 2013  \n",
      "2                   It Does The Job Well      1377648000  08 28, 2013  \n",
      "3          GOOD WINDSCREEN FOR THE MONEY      1392336000  02 14, 2014  \n",
      "4  No more pops when I record my vocals.      1392940800  02 21, 2014  \n"
     ]
    }
   ],
   "source": [
    "print(data.head())"
   ]
  },
  {
   "cell_type": "markdown",
   "id": "46311b0e",
   "metadata": {},
   "source": [
    "#### display the last five records"
   ]
  },
  {
   "cell_type": "code",
   "execution_count": 26,
   "id": "2bcb3d45",
   "metadata": {},
   "outputs": [
    {
     "name": "stdout",
     "output_type": "stream",
     "text": [
      "           reviewerID        asin             reviewerName helpful  \\\n",
      "10256  A14B2YH83ZXMPP  B00JBIVXGC          Lonnie M. Adams  [0, 0]   \n",
      "10257   A1RPTVW5VEOSI  B00JBIVXGC       Michael J. Edelman  [0, 0]   \n",
      "10258   AWCJ12KBO5VII  B00JBIVXGC         Michael L. Knapp  [0, 0]   \n",
      "10259  A2Z7S8B5U4PAKJ  B00JBIVXGC  Rick Langdon \"Scriptor\"  [0, 0]   \n",
      "10260  A2WA8TDCTGUADI  B00JBIVXGC          TheTerrorBeyond  [0, 0]   \n",
      "\n",
      "                                              reviewText  overall  \\\n",
      "10256            Great, just as expected.  Thank to all.        5   \n",
      "10257  I've been thinking about trying the Nanoweb st...        5   \n",
      "10258  I have tried coated strings in the past ( incl...        4   \n",
      "10259  Well, MADE by Elixir and DEVELOPED with Taylor...        4   \n",
      "10260  These strings are really quite good, but I wou...        4   \n",
      "\n",
      "                                                 summary  unixReviewTime  \\\n",
      "10256                                         Five Stars      1405814400   \n",
      "10257  Long life, and for some players, a good econom...      1404259200   \n",
      "10258                                   Good for coated.      1405987200   \n",
      "10259                                        Taylor Made      1404172800   \n",
      "10260  These strings are really quite good, but I wou...      1405468800   \n",
      "\n",
      "        reviewTime  \n",
      "10256  07 20, 2014  \n",
      "10257   07 2, 2014  \n",
      "10258  07 22, 2014  \n",
      "10259   07 1, 2014  \n",
      "10260  07 16, 2014  \n"
     ]
    }
   ],
   "source": [
    "print(data.tail())"
   ]
  },
  {
   "cell_type": "markdown",
   "id": "741fa6cf",
   "metadata": {},
   "source": [
    "#### find the number of unique reviewers in our dataset using a list"
   ]
  },
  {
   "cell_type": "code",
   "execution_count": 28,
   "id": "d8a6047b",
   "metadata": {},
   "outputs": [
    {
     "name": "stdout",
     "output_type": "stream",
     "text": [
      "Number of unique reviewers (using list): 1428\n"
     ]
    }
   ],
   "source": [
    "unique_reviewers_list = list(data['reviewerID'].unique())\n",
    "\n",
    "num_unique_reviewers = len(unique_reviewers_list)\n",
    "print(f\"Number of unique reviewers (using list): {num_unique_reviewers}\")\n"
   ]
  },
  {
   "cell_type": "markdown",
   "id": "f2cfd634",
   "metadata": {},
   "source": [
    "#### find the number of unique reviewers in our dataset using  .unique.tolist"
   ]
  },
  {
   "cell_type": "code",
   "execution_count": 31,
   "id": "66ecd3a2",
   "metadata": {},
   "outputs": [
    {
     "name": "stdout",
     "output_type": "stream",
     "text": [
      "Number of unique reviewers (using .unique().tolist()): 1428\n"
     ]
    }
   ],
   "source": [
    "unique_reviewers_array = data['reviewerID'].unique().tolist()\n",
    "\n",
    "num_unique_reviewers = len(unique_reviewers_array)\n",
    "print(f\"Number of unique reviewers (using .unique().tolist()): {num_unique_reviewers}\")\n"
   ]
  },
  {
   "cell_type": "markdown",
   "id": "3ae12f34",
   "metadata": {},
   "source": [
    "#### There are 1,428 customers in our dataset. For each of these customers, you will extract their buying history. In other words, we can have 1,428 sequences of purchases.\n",
    "\n",
    "#### It is a good practice to set aside a small part of the dataset for validation purposes. Therefore, we will use the data of 90% of the customers to create word2vec embeddings. \n",
    "\n",
    "#### Let’s split the data."
   ]
  },
  {
   "cell_type": "markdown",
   "id": "37028813",
   "metadata": {},
   "source": [
    "#### Create a training list with 90% of the data"
   ]
  },
  {
   "cell_type": "code",
   "execution_count": 35,
   "id": "53c89ede",
   "metadata": {},
   "outputs": [],
   "source": [
    "# Seed\n",
    "random.seed(117)\n",
    "# Training list  --- One line of code\n",
    "\n",
    "train_customers = random.sample(unique_reviewers_list, int(0.9 * len(unique_reviewers_list)))\n"
   ]
  },
  {
   "cell_type": "markdown",
   "id": "79b9632c",
   "metadata": {},
   "source": [
    "#### print the length of the list"
   ]
  },
  {
   "cell_type": "code",
   "execution_count": 38,
   "id": "63ce14d7",
   "metadata": {},
   "outputs": [
    {
     "name": "stdout",
     "output_type": "stream",
     "text": [
      "Number of customers in the training list: 1285\n"
     ]
    }
   ],
   "source": [
    "print(f\"Number of customers in the training list: {len(train_customers)}\")\n"
   ]
  },
  {
   "cell_type": "markdown",
   "id": "f10c2f65",
   "metadata": {},
   "source": [
    "### split data into train and test\n",
    "\n",
    "#### create a training dataframe with the reviewerID using isin and the customer_train created above"
   ]
  },
  {
   "cell_type": "code",
   "execution_count": 100,
   "id": "3e0146d5",
   "metadata": {},
   "outputs": [],
   "source": [
    "# Training DF using the reviewer list    -    One line of code\n",
    "train_df = data[data['reviewerID'].isin(train_customers)]"
   ]
  },
  {
   "cell_type": "markdown",
   "id": "7232225c",
   "metadata": {},
   "source": [
    "#### print the length of the list (train_df)"
   ]
  },
  {
   "cell_type": "code",
   "execution_count": 103,
   "id": "d7066a70",
   "metadata": {},
   "outputs": [
    {
     "name": "stdout",
     "output_type": "stream",
     "text": [
      "Number of rows in the training DataFrame: 9195\n"
     ]
    }
   ],
   "source": [
    "print(f\"Number of rows in the training DataFrame: {len(train_df)}\")\n"
   ]
  },
  {
   "cell_type": "markdown",
   "id": "c63939f0",
   "metadata": {},
   "source": [
    "#### create a test dataframe with the reviewerID using isin and the customer_train created above"
   ]
  },
  {
   "cell_type": "code",
   "execution_count": 106,
   "id": "78507e91",
   "metadata": {},
   "outputs": [],
   "source": [
    "test_df = data[~data['reviewerID'].isin(train_customers)]\n"
   ]
  },
  {
   "cell_type": "markdown",
   "id": "9ce8b2a4",
   "metadata": {},
   "source": [
    "#### Print the length of test_df"
   ]
  },
  {
   "cell_type": "code",
   "execution_count": 109,
   "id": "4bad679a",
   "metadata": {},
   "outputs": [
    {
     "name": "stdout",
     "output_type": "stream",
     "text": [
      "Number of rows in the test DataFrame: 1039\n"
     ]
    }
   ],
   "source": [
    "print(f\"Number of rows in the test DataFrame: {len(test_df)}\")\n"
   ]
  },
  {
   "cell_type": "markdown",
   "id": "f5332355",
   "metadata": {},
   "source": [
    "#### Create sequences of purchases made by the reviewers in the dataset for both the train and validation sets. You need to code three blocks of code. In the first two, you need a list called: purchases_train = []; in the last block, you need a list called: purchases_test = []. Also, you need a for lop and use tqdm in every block."
   ]
  },
  {
   "cell_type": "code",
   "execution_count": 152,
   "id": "086af245",
   "metadata": {},
   "outputs": [
    {
     "name": "stderr",
     "output_type": "stream",
     "text": [
      "100%|██████████| 1285/1285 [00:00<?, ?it/s]\n"
     ]
    }
   ],
   "source": [
    "# list to capture purchase history of the reviewers\n",
    "purchases_train = []\n",
    "\n",
    "# populate the list with the product codes.\n",
    "# use a variable called temp \n",
    "# append the values\n",
    "# Two lines of code: \n",
    "for i in tqdm(customers_train):\n",
    "    temp = i  \n",
    "    purchases_train.append(temp)\n",
    "    "
   ]
  },
  {
   "cell_type": "code",
   "execution_count": 154,
   "id": "24a0a4ac",
   "metadata": {},
   "outputs": [
    {
     "name": "stderr",
     "output_type": "stream",
     "text": [
      "100%|██████████| 1285/1285 [00:00<?, ?it/s]\n"
     ]
    }
   ],
   "source": [
    "# Purchase history sequence - Train\n",
    "purchases_train = []\n",
    "\n",
    "# Complete the two lines of code to append the data.\n",
    "for i in tqdm(customers_train):\n",
    "    in_training = i  \n",
    "    purchases_train.append(in_training)\n",
    "    "
   ]
  },
  {
   "cell_type": "code",
   "execution_count": 156,
   "id": "4b8eb352",
   "metadata": {},
   "outputs": [
    {
     "name": "stderr",
     "output_type": "stream",
     "text": [
      "100%|██████████| 143/143 [00:00<00:00, 6660.43it/s]\n"
     ]
    }
   ],
   "source": [
    "# Same process, purchase history - Test\n",
    "purchases_test = []\n",
    "\n",
    "# Complete the two lines of code to append the data.\n",
    "for i in tqdm(test_df['reviewerID'].unique()):\n",
    "    in_training = test_df[test_df['reviewerID'] == i]['asin'].tolist()  \n",
    "    purchases_test.append(in_training)\n",
    "    "
   ]
  },
  {
   "cell_type": "markdown",
   "id": "ea5a5c0a",
   "metadata": {},
   "source": [
    "#### import nltp, re, and PorterStemmer from nltk.stem.porter"
   ]
  },
  {
   "cell_type": "code",
   "execution_count": 174,
   "id": "7c280696",
   "metadata": {},
   "outputs": [],
   "source": [
    "import nltk\n",
    "import re\n",
    "from nltk.stem import PorterStemmer\n"
   ]
  },
  {
   "cell_type": "markdown",
   "id": "56e1c820",
   "metadata": {},
   "source": [
    "#### Explain the block of code below and run it"
   ]
  },
  {
   "cell_type": "markdown",
   "id": "596484a5-f357-4f77-b771-2c7d2e473ecc",
   "metadata": {},
   "source": [
    "This code block demonstrates a text preprocessing pipeline using the Natural Language Toolkit (NLTK) and the Word2Vec model from Gensim. It begins by importing necessary libraries and initializing a list of English stopwords and a Porter Stemmer for word stemming. The code processes a DataFrame df containing a column of review texts by converting all text to lowercase, removing non-alphabetic characters, and replacing multiple spaces with single spaces. It then removes stopwords and stems the remaining words before joining them back into strings. The processed reviews are converted into a list of lists, where each inner list contains individual words. Finally, a Word2Vec model is created with a minimum word count of 5, and the vocabulary is built and trained on the processed reviews for 10 epochs. This workflow effectively cleans and prepares textual data for further analysis and modeling."
   ]
  },
  {
   "cell_type": "code",
   "execution_count": 187,
   "id": "b90a884c-530c-497d-adc3-634297a4d424",
   "metadata": {},
   "outputs": [],
   "source": [
    "stopword_list = nltk.corpus.stopwords.words('english')\n",
    "st = PorterStemmer()\n",
    "\n",
    "df.reviewText = df.reviewText.str.lower()\n",
    "df.reviewText = df.reviewText.apply(lambda x: re.sub(' +', ' ', re.sub(r'[^a-z]', ' ', x)))\n",
    "df.reviewText = df.reviewText.apply(lambda x: \" \".join([st.stem(i) for i in x.split() if i not in stopword_list]))\n",
    "\n",
    "allreviews = list(df.reviewText)\n",
    "allreviews = [i.split() for i in allreviews]"
   ]
  },
  {
   "cell_type": "markdown",
   "id": "0e4a657c",
   "metadata": {},
   "source": [
    "#### import Word2Vec from gensim.models.word2vec"
   ]
  },
  {
   "cell_type": "code",
   "execution_count": 200,
   "id": "5641932a",
   "metadata": {},
   "outputs": [],
   "source": [
    "# Creating the Word2Vec model\n",
    "model = Word2Vec(vector_size=100, min_count=5, workers=4, epochs=10)\n"
   ]
  },
  {
   "cell_type": "markdown",
   "id": "b4720ded",
   "metadata": {},
   "source": [
    "#### create a model using: <br>Word2Vec(min_count = 5) <br> build_vocab(allreviews) <br> train(allreviews, total_examples = model.corpus_count, epochs = 10)"
   ]
  },
  {
   "cell_type": "code",
   "execution_count": 208,
   "id": "6c79a536",
   "metadata": {},
   "outputs": [
    {
     "data": {
      "text/plain": [
       "(18, 130)"
      ]
     },
     "execution_count": 208,
     "metadata": {},
     "output_type": "execute_result"
    }
   ],
   "source": [
    "# Three lines of code: \n",
    "model = Word2Vec(vector_size=100, min_count=1, workers=4)  \n",
    "\n",
    "\n",
    "model.build_vocab(allreviews)\n",
    "\n",
    "\n",
    "model.train(allreviews, total_examples=len(allreviews), epochs=10)  \n"
   ]
  },
  {
   "cell_type": "markdown",
   "id": "4a9d331f",
   "metadata": {},
   "source": [
    "### Using the model above, display the 5 most similar words to \"bass\" "
   ]
  },
  {
   "cell_type": "code",
   "execution_count": 221,
   "id": "9f93e0dd",
   "metadata": {},
   "outputs": [
    {
     "name": "stdout",
     "output_type": "stream",
     "text": [
      "item: 0.2162\n",
      "product: 0.0931\n",
      "qualiti: 0.0929\n",
      "great: 0.0797\n",
      "like: 0.0628\n"
     ]
    }
   ],
   "source": [
    "# Example: Displaying similar words for \"recommend\"\n",
    "similar_words = model.wv.most_similar('recommend', topn=5)\n",
    "\n",
    "# Display the similar words\n",
    "for word, similarity in similar_words:\n",
    "    print(f\"{word}: {similarity:.4f}\")\n"
   ]
  },
  {
   "cell_type": "code",
   "execution_count": null,
   "id": "c059c198",
   "metadata": {},
   "outputs": [],
   "source": []
  },
  {
   "cell_type": "markdown",
   "id": "8dcea672",
   "metadata": {},
   "source": [
    "### Using the model above, display the 5 most similar words to \"guitar\" "
   ]
  },
  {
   "cell_type": "code",
   "execution_count": 226,
   "id": "179f71fb",
   "metadata": {},
   "outputs": [
    {
     "name": "stdout",
     "output_type": "stream",
     "text": [
      "KeyError: \"Key 'guitar' not present in vocabulary\"\n",
      "The word 'guitar' is not present in the vocabulary.\n"
     ]
    }
   ],
   "source": [
    "try:\n",
    "    similar_words = model.wv.most_similar('guitar', topn=5)\n",
    "    \n",
    "    \n",
    "    for word, similarity in similar_words:\n",
    "        print(f\"{word}: {similarity:.4f}\")\n",
    "except KeyError as e:\n",
    "    print(f\"KeyError: {e}\")\n",
    "    print(f\"The word 'guitar' is not present in the vocabulary.\")\n"
   ]
  },
  {
   "cell_type": "code",
   "execution_count": 26,
   "id": "c4cdbb9c",
   "metadata": {},
   "outputs": [
    {
     "data": {
      "text/plain": [
       "[('violin', 0.6920208930969238),\n",
       " ('instrument', 0.6728417873382568),\n",
       " ('mandolin', 0.6387753486633301),\n",
       " ('ukulel', 0.6279035210609436),\n",
       " ('banjo', 0.6043956875801086)]"
      ]
     },
     "execution_count": 26,
     "metadata": {},
     "output_type": "execute_result"
    }
   ],
   "source": []
  },
  {
   "cell_type": "markdown",
   "id": "8225a6bf",
   "metadata": {},
   "source": [
    "#### Let's use a different model"
   ]
  },
  {
   "cell_type": "markdown",
   "id": "22bc421b",
   "metadata": {},
   "source": [
    "#### Build word2vec Embeddings for Products"
   ]
  },
  {
   "cell_type": "code",
   "execution_count": 230,
   "id": "6ae6cc34",
   "metadata": {},
   "outputs": [
    {
     "data": {
      "text/plain": [
       "(39484, 176520)"
      ]
     },
     "execution_count": 230,
     "metadata": {},
     "output_type": "execute_result"
    }
   ],
   "source": [
    "# train word2vec model\n",
    "model = Word2Vec(window = 10, sg = 1, hs = 0,\n",
    "                 negative = 10, # for negative sampling\n",
    "                 alpha=0.03, min_alpha=0.0007,\n",
    "                 seed = 14)\n",
    "\n",
    "model.build_vocab(purchases_train, progress_per=200)\n",
    "\n",
    "model.train(purchases_train, total_examples = model.corpus_count, \n",
    "            epochs=10, report_delay=1)"
   ]
  },
  {
   "cell_type": "code",
   "execution_count": 232,
   "id": "d97a9d50",
   "metadata": {},
   "outputs": [
    {
     "data": {
      "text/plain": [
       "(39413, 176520)"
      ]
     },
     "execution_count": 232,
     "metadata": {},
     "output_type": "execute_result"
    }
   ],
   "source": [
    "# Build & train W2V model\n",
    "model = Word2Vec(window=10, sg=1, hs=0, negative=10, alpha=0.03, min_alpha=0.0007, seed=4)\n",
    "model.build_vocab(purchases_train, progress_per=200)\n",
    "model.train(purchases_train, total_examples=model.corpus_count, epochs=10, report_delay=1)"
   ]
  },
  {
   "cell_type": "markdown",
   "id": "9044f3c9",
   "metadata": {},
   "source": [
    "#### print out the summary of “model”:"
   ]
  },
  {
   "cell_type": "code",
   "execution_count": 235,
   "id": "da2d197b",
   "metadata": {},
   "outputs": [
    {
     "name": "stdout",
     "output_type": "stream",
     "text": [
      "Model Summary:\n",
      "Vocabulary Size: 36\n",
      "Vector Size: 100\n",
      "Training Epochs: 10\n",
      "Window Size: 10\n",
      "Negative Sampling: 10\n",
      "Skip-Gram: 1\n",
      "Hierarchy Softmax: 0\n",
      "Minimum Alpha: 0.0007\n",
      "Initial Alpha: 0.03\n"
     ]
    }
   ],
   "source": [
    "print(\"Model Summary:\")\n",
    "print(f\"Vocabulary Size: {len(model.wv.key_to_index)}\")\n",
    "print(f\"Vector Size: {model.vector_size}\")\n",
    "print(f\"Training Epochs: {model.epochs}\")\n",
    "print(f\"Window Size: {model.window}\")\n",
    "print(f\"Negative Sampling: {model.negative}\")\n",
    "print(f\"Skip-Gram: {model.sg}\")\n",
    "print(f\"Hierarchy Softmax: {model.hs}\")\n",
    "print(f\"Minimum Alpha: {model.min_alpha}\")\n",
    "print(f\"Initial Alpha: {model.alpha}\")\n"
   ]
  },
  {
   "cell_type": "markdown",
   "id": "bbb36bb3",
   "metadata": {},
   "source": [
    "Our model has a vocabulary of 787 unique words and their vectors of size 100 each. Next, we will extract the vectors of all the words in our vocabulary and store it in one place for easy access."
   ]
  },
  {
   "cell_type": "markdown",
   "id": "803e67d8",
   "metadata": {},
   "source": [
    "#### extract all vectors in a variable called X"
   ]
  },
  {
   "cell_type": "code",
   "execution_count": 240,
   "id": "bc6832ab",
   "metadata": {},
   "outputs": [],
   "source": [
    "X = list(model.wv.index_to_key)"
   ]
  },
  {
   "cell_type": "code",
   "execution_count": 242,
   "id": "74e2496e",
   "metadata": {},
   "outputs": [],
   "source": [
    "X = model.wv[model.wv.key_to_index]"
   ]
  },
  {
   "cell_type": "markdown",
   "id": "cb815690",
   "metadata": {},
   "source": [
    "#### Print the shape of X"
   ]
  },
  {
   "cell_type": "code",
   "execution_count": 249,
   "id": "928d67f8",
   "metadata": {},
   "outputs": [
    {
     "name": "stdout",
     "output_type": "stream",
     "text": [
      "Shape of X: (36, 100)\n"
     ]
    }
   ],
   "source": [
    "print(\"Shape of X:\", X.shape)\n"
   ]
  },
  {
   "cell_type": "markdown",
   "id": "a0e92102",
   "metadata": {},
   "source": [
    "#### Visualize word2vec Embeddings usign umap"
   ]
  },
  {
   "cell_type": "code",
   "execution_count": 258,
   "id": "cea01432",
   "metadata": {},
   "outputs": [],
   "source": [
    "#!pip install umap\n",
    "#!pip install umap-learn"
   ]
  },
  {
   "cell_type": "code",
   "execution_count": 260,
   "id": "7e66f391",
   "metadata": {},
   "outputs": [
    {
     "name": "stderr",
     "output_type": "stream",
     "text": [
      "C:\\Users\\William\\anaconda3\\Lib\\site-packages\\umap\\umap_.py:1952: UserWarning: n_jobs value 1 overridden to 1 by setting random_state. Use no seed for parallelism.\n",
      "  warn(\n"
     ]
    },
    {
     "data": {
      "image/png": "[encoded data removed]",
      "text/plain": [
       "<Figure size 1200x1000 with 1 Axes>"
      ]
     },
     "metadata": {},
     "output_type": "display_data"
    }
   ],
   "source": [
    "# Uncomment the following lines if you need to install the packages\n",
    "# !pip install umap-learn\n",
    "# !pip install matplotlib\n",
    "\n",
    "import numpy as np\n",
    "import pandas as pd\n",
    "import umap\n",
    "import matplotlib.pyplot as plt\n",
    "\n",
    "# Assuming X contains the word vectors from your Word2Vec model\n",
    "# X = model.wv[model.wv.key_to_index]  # This should already be done\n",
    "\n",
    "# Reduce dimensions with UMAP\n",
    "umap_model = umap.UMAP(n_neighbors=15, n_components=2, metric='euclidean', random_state=42)\n",
    "X_umap = umap_model.fit_transform(X)\n",
    "\n",
    "# Prepare a DataFrame for easier plotting\n",
    "words = list(model.wv.index_to_key)\n",
    "df_umap = pd.DataFrame(X_umap, columns=['x', 'y'])\n",
    "df_umap['word'] = words\n",
    "\n",
    "# Plotting the results\n",
    "plt.figure(figsize=(12, 10))\n",
    "plt.scatter(df_umap['x'], df_umap['y'], alpha=0.5)\n",
    "\n",
    "# Annotate points with words\n",
    "for i, row in df_umap.iterrows():\n",
    "    plt.annotate(row['word'], (row['x'], row['y']), fontsize=8)\n",
    "\n",
    "plt.title('Word2Vec Embeddings Visualized with UMAP')\n",
    "plt.xlabel('UMAP Component 1')\n",
    "plt.ylabel('UMAP Component 2')\n",
    "plt.show()\n"
   ]
  },
  {
   "cell_type": "code",
   "execution_count": null,
   "id": "4b95f0d0",
   "metadata": {},
   "outputs": [],
   "source": []
  },
  {
   "cell_type": "markdown",
   "id": "aad06a7a",
   "metadata": {},
   "source": [
    "Every dot in this plot is a product. As you can see, there are several tiny clusters of these data points. These are groups of similar products."
   ]
  }
 ],
 "metadata": {
  "kernelspec": {
   "display_name": "Python 3 (ipykernel)",
   "language": "python",
   "name": "python3"
  },
  "language_info": {
   "codemirror_mode": {
    "name": "ipython",
    "version": 3
   },
   "file_extension": ".py",
   "mimetype": "text/x-python",
   "name": "python",
   "nbconvert_exporter": "python",
   "pygments_lexer": "ipython3",
   "version": "3.11.7"
  }
 },
 "nbformat": 4,
 "nbformat_minor": 5
}
